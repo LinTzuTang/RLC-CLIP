{
 "cells": [
  {
   "cell_type": "code",
   "execution_count": 165,
   "metadata": {
    "tags": []
   },
   "outputs": [],
   "source": [
    "!module load cuda"
   ]
  },
  {
   "cell_type": "code",
   "execution_count": 1,
   "metadata": {
    "tags": []
   },
   "outputs": [
    {
     "name": "stderr",
     "output_type": "stream",
     "text": [
      "2024-12-04 00:33:24.746725: I external/local_xla/xla/tsl/cuda/cudart_stub.cc:32] Could not find cuda drivers on your machine, GPU will not be used.\n",
      "2024-12-04 00:33:24.749718: I external/local_xla/xla/tsl/cuda/cudart_stub.cc:32] Could not find cuda drivers on your machine, GPU will not be used.\n",
      "2024-12-04 00:33:24.760065: E external/local_xla/xla/stream_executor/cuda/cuda_fft.cc:485] Unable to register cuFFT factory: Attempting to register factory for plugin cuFFT when one has already been registered\n",
      "2024-12-04 00:33:24.776868: E external/local_xla/xla/stream_executor/cuda/cuda_dnn.cc:8454] Unable to register cuDNN factory: Attempting to register factory for plugin cuDNN when one has already been registered\n",
      "2024-12-04 00:33:24.781915: E external/local_xla/xla/stream_executor/cuda/cuda_blas.cc:1452] Unable to register cuBLAS factory: Attempting to register factory for plugin cuBLAS when one has already been registered\n",
      "2024-12-04 00:33:24.794214: I tensorflow/core/platform/cpu_feature_guard.cc:210] This TensorFlow binary is optimized to use available CPU instructions in performance-critical operations.\n",
      "To enable the following instructions: AVX2 FMA, in other operations, rebuild TensorFlow with the appropriate compiler flags.\n",
      "2024-12-04 00:33:27.313414: W tensorflow/compiler/tf2tensorrt/utils/py_utils.cc:38] TF-TRT Warning: Could not find TensorRT\n",
      "/blue/yanjun.li/tzutang.lin/.conda/envs/copra/lib/python3.10/site-packages/torch_geometric/typing.py:68: UserWarning: An issue occurred while importing 'pyg-lib'. Disabling its usage. Stacktrace: /lib64/libm.so.6: version `GLIBC_2.29' not found (required by /blue/yanjun.li/tzutang.lin/.conda/envs/copra/lib/python3.10/site-packages/libpyg.so)\n",
      "  warnings.warn(f\"An issue occurred while importing 'pyg-lib'. \"\n",
      "/blue/yanjun.li/tzutang.lin/.conda/envs/copra/lib/python3.10/site-packages/torch_geometric/typing.py:124: UserWarning: An issue occurred while importing 'torch-sparse'. Disabling its usage. Stacktrace: /lib64/libm.so.6: version `GLIBC_2.29' not found (required by /blue/yanjun.li/tzutang.lin/.conda/envs/copra/lib/python3.10/site-packages/libpyg.so)\n",
      "  warnings.warn(f\"An issue occurred while importing 'torch-sparse'. \"\n"
     ]
    }
   ],
   "source": [
    "import pandas as pd\n",
    "import numpy as np\n",
    "import sys\n",
    "sys.path.append(\"./materials\")\n",
    "sys.path.append(\"./materials/models\")\n",
    "from materials.models import fm4m\n",
    "from multimolecule import RnaTokenizer, RiNALMoModel\n",
    "import torch"
   ]
  },
  {
   "cell_type": "markdown",
   "metadata": {},
   "source": [
    "# RNA embedding"
   ]
  },
  {
   "cell_type": "code",
   "execution_count": 120,
   "metadata": {
    "tags": []
   },
   "outputs": [],
   "source": [
    "# RNA sequence encoding function with batch processing and memory optimization\n",
    "# max_length = general_df['rna_sequence'].apply(len).max()\n",
    "def encode_rna_sequences(rna_sequences, batch_size=64, max_length=2048):\n",
    "    \n",
    "    # Load the pretrained tokenizer and model\n",
    "    rna_tokenizer = RnaTokenizer.from_pretrained('multimolecule/rinalmo')\n",
    "    rna_model = RiNALMoModel.from_pretrained('multimolecule/rinalmo')\n",
    "\n",
    "    rna_embeddings = []\n",
    "    for i in range(0, len(rna_sequences), batch_size):\n",
    "        batch_sequences = rna_sequences[i:i+batch_size]\n",
    "        print(f\"Processing batch {i // batch_size + 1}/{(len(rna_sequences) + batch_size - 1) // batch_size}\")\n",
    "\n",
    "        # Tokenize the RNA sequences in the batch\n",
    "        rna_input = rna_tokenizer(batch_sequences.tolist(), return_tensors='pt', padding=True, truncation=True, max_length=max_length)\n",
    "\n",
    "        # Make sure to move inputs and model to CPU to reduce GPU memory usage\n",
    "        rna_input = {key: val.to('cuda' if torch.cuda.is_available() else 'cpu') for key, val in rna_input.items()}\n",
    "        rna_model.to('cuda' if torch.cuda.is_available() else 'cpu')\n",
    "\n",
    "        # Get model output and extract [CLS] token embedding\n",
    "        with torch.no_grad():  # Disable gradient computation to save memory\n",
    "            rna_output = rna_model(**rna_input)\n",
    "            last_hidden_state = rna_output['last_hidden_state']\n",
    "            cls_embeddings = last_hidden_state[:, 0, :]  # Extract CLS token for all sequences in the batch\n",
    "\n",
    "        # Detach and move to CPU, then convert to NumPy\n",
    "        cls_embeddings_np = cls_embeddings.detach().cpu().numpy()\n",
    "        rna_embeddings.extend(cls_embeddings_np)\n",
    "\n",
    "        # Clear cache to avoid memory overflow\n",
    "        torch.cuda.empty_cache()\n",
    "\n",
    "    # Convert all embeddings to a tensor\n",
    "    return torch.tensor(rna_embeddings, dtype=torch.float32)"
   ]
  },
  {
   "cell_type": "markdown",
   "metadata": {},
   "source": [
    "# SMILES embedding"
   ]
  },
  {
   "cell_type": "code",
   "execution_count": 121,
   "metadata": {
    "tags": []
   },
   "outputs": [],
   "source": [
    "# fm4m.avail_models()\n",
    "def encode_smiles(ligand_smiles, model_type='SMI-TED'):\n",
    "    smiles_list = list(ligand_smiles.values)\n",
    "    x_batch = fm4m.get_representation_x(smiles_list, model_type=model_type, return_tensor=False)\n",
    "    x_batch = np.array(x_batch)\n",
    "    return torch.tensor(x_batch, dtype=torch.float32)"
   ]
  },
  {
   "cell_type": "code",
   "execution_count": null,
   "metadata": {},
   "outputs": [],
   "source": []
  },
  {
   "cell_type": "markdown",
   "metadata": {},
   "source": [
    "# General dataset"
   ]
  },
  {
   "cell_type": "code",
   "execution_count": 122,
   "metadata": {
    "tags": []
   },
   "outputs": [],
   "source": [
    "general_df = pd.read_csv('general_dataset/general_processed_index.csv', keep_default_na=False)"
   ]
  },
  {
   "cell_type": "code",
   "execution_count": 123,
   "metadata": {
    "tags": []
   },
   "outputs": [
    {
     "data": {
      "text/html": [
       "<div>\n",
       "<style scoped>\n",
       "    .dataframe tbody tr th:only-of-type {\n",
       "        vertical-align: middle;\n",
       "    }\n",
       "\n",
       "    .dataframe tbody tr th {\n",
       "        vertical-align: top;\n",
       "    }\n",
       "\n",
       "    .dataframe thead th {\n",
       "        text-align: right;\n",
       "    }\n",
       "</style>\n",
       "<table border=\"1\" class=\"dataframe\">\n",
       "  <thead>\n",
       "    <tr style=\"text-align: right;\">\n",
       "      <th></th>\n",
       "      <th>pdb_id</th>\n",
       "      <th>ligand_id</th>\n",
       "      <th>ligand_chain</th>\n",
       "      <th>rna_chain</th>\n",
       "      <th>rna_sequence</th>\n",
       "      <th>ligand_smiles</th>\n",
       "    </tr>\n",
       "  </thead>\n",
       "  <tbody>\n",
       "    <tr>\n",
       "      <th>0</th>\n",
       "      <td>1aju</td>\n",
       "      <td>ARG</td>\n",
       "      <td>B</td>\n",
       "      <td>A</td>\n",
       "      <td>GGCCAGAUUGAGCCUGGGAGCUCUCUGGCC</td>\n",
       "      <td>[H]N([H])C(N([H])[H])N([H])C([H])([H])C([H])([...</td>\n",
       "    </tr>\n",
       "    <tr>\n",
       "      <th>1</th>\n",
       "      <td>1akx</td>\n",
       "      <td>ARG</td>\n",
       "      <td>B</td>\n",
       "      <td>A</td>\n",
       "      <td>GGCCAGAUUGAGCCUGGGAGCUCUCUGGCC</td>\n",
       "      <td>[H]N([H])C(N([H])[H])N([H])C([H])([H])C([H])([...</td>\n",
       "    </tr>\n",
       "    <tr>\n",
       "      <th>2</th>\n",
       "      <td>1am0</td>\n",
       "      <td>AMP</td>\n",
       "      <td>B</td>\n",
       "      <td>A</td>\n",
       "      <td>GGGUUGGGAAGAAACUGUGGCACUUCGGUGCCAGCAACCC</td>\n",
       "      <td>[H]O[C@@]1([H])[C@@]([H])(O[H])[C@]([H])(N2C([...</td>\n",
       "    </tr>\n",
       "    <tr>\n",
       "      <th>3</th>\n",
       "      <td>1arj</td>\n",
       "      <td>ARG</td>\n",
       "      <td>B</td>\n",
       "      <td>N</td>\n",
       "      <td>GGCAGAUCUGAGCCUGGGAGCUCUCUGCC</td>\n",
       "      <td>[H]N([H])C(N([H])[H])N([H])C([H])([H])C([H])([...</td>\n",
       "    </tr>\n",
       "    <tr>\n",
       "      <th>4</th>\n",
       "      <td>1eht</td>\n",
       "      <td>TEP</td>\n",
       "      <td>B</td>\n",
       "      <td>A</td>\n",
       "      <td>GGCGAUACCAGCCGAAAGGCCCUUGGCAGCGUC</td>\n",
       "      <td>[H]C1NC2C(C(O)N(C([H])([H])[H])C(O)N2C([H])([H...</td>\n",
       "    </tr>\n",
       "    <tr>\n",
       "      <th>...</th>\n",
       "      <td>...</td>\n",
       "      <td>...</td>\n",
       "      <td>...</td>\n",
       "      <td>...</td>\n",
       "      <td>...</td>\n",
       "      <td>...</td>\n",
       "    </tr>\n",
       "    <tr>\n",
       "      <th>1385</th>\n",
       "      <td>6yl5</td>\n",
       "      <td>SAH</td>\n",
       "      <td>NA</td>\n",
       "      <td>K</td>\n",
       "      <td>GGUCACAACGGCUUCCUGGCGUGACCAUUGGAGCA</td>\n",
       "      <td>[H]O[C@@]1([H])[C@@]([H])(O[H])[C@]([H])(N2C([...</td>\n",
       "    </tr>\n",
       "    <tr>\n",
       "      <th>1386</th>\n",
       "      <td>6ymi</td>\n",
       "      <td>AMP</td>\n",
       "      <td>Z</td>\n",
       "      <td>O</td>\n",
       "      <td>GGUCACAACGGCUUCCUGGCGUGACC</td>\n",
       "      <td>NC1NCNC2C1NCN2[C@@H]1O[C@H](CO[PH](O)(O)O)[C@@...</td>\n",
       "    </tr>\n",
       "    <tr>\n",
       "      <th>1387</th>\n",
       "      <td>6ymj</td>\n",
       "      <td>ADN</td>\n",
       "      <td>AA</td>\n",
       "      <td>O</td>\n",
       "      <td>GGUCACAACGGCUUCCUGGCGUGACC</td>\n",
       "      <td>NC1NCNC2C1NCN2[C@@H]1O[C@H](CO)[C@@H](O)[C@H]1O</td>\n",
       "    </tr>\n",
       "    <tr>\n",
       "      <th>1388</th>\n",
       "      <td>7tql</td>\n",
       "      <td>5GP</td>\n",
       "      <td>NA</td>\n",
       "      <td>3</td>\n",
       "      <td>AGCAGAGUGGCGCAGCGGAAGCGUGCUGGGCCCAUAACCCAGAGGU...</td>\n",
       "      <td>NC1NC(O)C2NCN([C@@H]3O[C@H](COP(O)O)[C@@H](O)[...</td>\n",
       "    </tr>\n",
       "    <tr>\n",
       "      <th>1389</th>\n",
       "      <td>8ceu</td>\n",
       "      <td>G34</td>\n",
       "      <td>NA</td>\n",
       "      <td>a</td>\n",
       "      <td>GGUUAAGCGACUAAGCGUACACGGUGGAUGCCCUGGCAGUCAGAGG...</td>\n",
       "      <td>CC[C@]1(C)C[C@@H](OC(O)CS[C@H]2C[C@H]3CC[C@@H]...</td>\n",
       "    </tr>\n",
       "  </tbody>\n",
       "</table>\n",
       "<p>1390 rows × 6 columns</p>\n",
       "</div>"
      ],
      "text/plain": [
       "     pdb_id ligand_id ligand_chain rna_chain  \\\n",
       "0      1aju       ARG            B         A   \n",
       "1      1akx       ARG            B         A   \n",
       "2      1am0       AMP            B         A   \n",
       "3      1arj       ARG            B         N   \n",
       "4      1eht       TEP            B         A   \n",
       "...     ...       ...          ...       ...   \n",
       "1385   6yl5       SAH           NA         K   \n",
       "1386   6ymi       AMP            Z         O   \n",
       "1387   6ymj       ADN           AA         O   \n",
       "1388   7tql       5GP           NA         3   \n",
       "1389   8ceu       G34           NA         a   \n",
       "\n",
       "                                           rna_sequence  \\\n",
       "0                        GGCCAGAUUGAGCCUGGGAGCUCUCUGGCC   \n",
       "1                        GGCCAGAUUGAGCCUGGGAGCUCUCUGGCC   \n",
       "2              GGGUUGGGAAGAAACUGUGGCACUUCGGUGCCAGCAACCC   \n",
       "3                         GGCAGAUCUGAGCCUGGGAGCUCUCUGCC   \n",
       "4                     GGCGAUACCAGCCGAAAGGCCCUUGGCAGCGUC   \n",
       "...                                                 ...   \n",
       "1385                GGUCACAACGGCUUCCUGGCGUGACCAUUGGAGCA   \n",
       "1386                         GGUCACAACGGCUUCCUGGCGUGACC   \n",
       "1387                         GGUCACAACGGCUUCCUGGCGUGACC   \n",
       "1388  AGCAGAGUGGCGCAGCGGAAGCGUGCUGGGCCCAUAACCCAGAGGU...   \n",
       "1389  GGUUAAGCGACUAAGCGUACACGGUGGAUGCCCUGGCAGUCAGAGG...   \n",
       "\n",
       "                                          ligand_smiles  \n",
       "0     [H]N([H])C(N([H])[H])N([H])C([H])([H])C([H])([...  \n",
       "1     [H]N([H])C(N([H])[H])N([H])C([H])([H])C([H])([...  \n",
       "2     [H]O[C@@]1([H])[C@@]([H])(O[H])[C@]([H])(N2C([...  \n",
       "3     [H]N([H])C(N([H])[H])N([H])C([H])([H])C([H])([...  \n",
       "4     [H]C1NC2C(C(O)N(C([H])([H])[H])C(O)N2C([H])([H...  \n",
       "...                                                 ...  \n",
       "1385  [H]O[C@@]1([H])[C@@]([H])(O[H])[C@]([H])(N2C([...  \n",
       "1386  NC1NCNC2C1NCN2[C@@H]1O[C@H](CO[PH](O)(O)O)[C@@...  \n",
       "1387    NC1NCNC2C1NCN2[C@@H]1O[C@H](CO)[C@@H](O)[C@H]1O  \n",
       "1388  NC1NC(O)C2NCN([C@@H]3O[C@H](COP(O)O)[C@@H](O)[...  \n",
       "1389  CC[C@]1(C)C[C@@H](OC(O)CS[C@H]2C[C@H]3CC[C@@H]...  \n",
       "\n",
       "[1390 rows x 6 columns]"
      ]
     },
     "execution_count": 123,
     "metadata": {},
     "output_type": "execute_result"
    }
   ],
   "source": [
    "general_df"
   ]
  },
  {
   "cell_type": "code",
   "execution_count": 124,
   "metadata": {
    "tags": []
   },
   "outputs": [
    {
     "data": {
      "text/html": [
       "<div>\n",
       "<style scoped>\n",
       "    .dataframe tbody tr th:only-of-type {\n",
       "        vertical-align: middle;\n",
       "    }\n",
       "\n",
       "    .dataframe tbody tr th {\n",
       "        vertical-align: top;\n",
       "    }\n",
       "\n",
       "    .dataframe thead th {\n",
       "        text-align: right;\n",
       "    }\n",
       "</style>\n",
       "<table border=\"1\" class=\"dataframe\">\n",
       "  <thead>\n",
       "    <tr style=\"text-align: right;\">\n",
       "      <th></th>\n",
       "      <th>Model Name</th>\n",
       "      <th>Description</th>\n",
       "    </tr>\n",
       "  </thead>\n",
       "  <tbody>\n",
       "    <tr>\n",
       "      <th>0</th>\n",
       "      <td>SMI-TED</td>\n",
       "      <td>SMILES based encoder decoder model</td>\n",
       "    </tr>\n",
       "    <tr>\n",
       "      <th>1</th>\n",
       "      <td>SELFIES-TED</td>\n",
       "      <td>BART model for string based SELFIES modality</td>\n",
       "    </tr>\n",
       "    <tr>\n",
       "      <th>2</th>\n",
       "      <td>MolFormer</td>\n",
       "      <td>MolFormer model for string based SMILES modality</td>\n",
       "    </tr>\n",
       "    <tr>\n",
       "      <th>3</th>\n",
       "      <td>MHG-GED</td>\n",
       "      <td>Molecular hypergraph model</td>\n",
       "    </tr>\n",
       "    <tr>\n",
       "      <th>4</th>\n",
       "      <td>Mordred</td>\n",
       "      <td>Baseline: A descriptor-calculation software ap...</td>\n",
       "    </tr>\n",
       "    <tr>\n",
       "      <th>5</th>\n",
       "      <td>MorganFingerprint</td>\n",
       "      <td>Baseline: Circular atom environments based des...</td>\n",
       "    </tr>\n",
       "  </tbody>\n",
       "</table>\n",
       "</div>"
      ],
      "text/plain": [
       "          Model Name                                        Description\n",
       "0            SMI-TED                 SMILES based encoder decoder model\n",
       "1        SELFIES-TED       BART model for string based SELFIES modality\n",
       "2          MolFormer   MolFormer model for string based SMILES modality\n",
       "3            MHG-GED                         Molecular hypergraph model\n",
       "4            Mordred  Baseline: A descriptor-calculation software ap...\n",
       "5  MorganFingerprint  Baseline: Circular atom environments based des..."
      ]
     },
     "execution_count": 124,
     "metadata": {},
     "output_type": "execute_result"
    }
   ],
   "source": [
    "fm4m.avail_models()"
   ]
  },
  {
   "cell_type": "code",
   "execution_count": 157,
   "metadata": {
    "tags": []
   },
   "outputs": [],
   "source": [
    "smiles_embeddings = encode_smiles(general_df['ligand_smiles'], model_type='SMI-TED')\n",
    "general_df['smiles_embedding'] = [list(embedding.numpy()) for embedding in smiles_embeddings]"
   ]
  },
  {
   "cell_type": "code",
   "execution_count": 156,
   "metadata": {
    "tags": []
   },
   "outputs": [],
   "source": [
    "rna_embeddings = encode_rna_sequences(general_df['rna_sequence'])\n",
    "general_df['rna_embedding'] = [list(embedding.numpy()) for embedding in rna_embeddings]"
   ]
  },
  {
   "cell_type": "code",
   "execution_count": 138,
   "metadata": {
    "tags": []
   },
   "outputs": [
    {
     "data": {
      "text/html": [
       "<div>\n",
       "<style scoped>\n",
       "    .dataframe tbody tr th:only-of-type {\n",
       "        vertical-align: middle;\n",
       "    }\n",
       "\n",
       "    .dataframe tbody tr th {\n",
       "        vertical-align: top;\n",
       "    }\n",
       "\n",
       "    .dataframe thead th {\n",
       "        text-align: right;\n",
       "    }\n",
       "</style>\n",
       "<table border=\"1\" class=\"dataframe\">\n",
       "  <thead>\n",
       "    <tr style=\"text-align: right;\">\n",
       "      <th></th>\n",
       "      <th>pdb_id</th>\n",
       "      <th>ligand_id</th>\n",
       "      <th>ligand_chain</th>\n",
       "      <th>rna_chain</th>\n",
       "      <th>rna_sequence</th>\n",
       "      <th>ligand_smiles</th>\n",
       "      <th>smiles_embedding</th>\n",
       "      <th>rna_embedding</th>\n",
       "    </tr>\n",
       "  </thead>\n",
       "  <tbody>\n",
       "    <tr>\n",
       "      <th>0</th>\n",
       "      <td>1aju</td>\n",
       "      <td>ARG</td>\n",
       "      <td>B</td>\n",
       "      <td>A</td>\n",
       "      <td>GGCCAGAUUGAGCCUGGGAGCUCUCUGGCC</td>\n",
       "      <td>[H]N([H])C(N([H])[H])N([H])C([H])([H])C([H])([...</td>\n",
       "      <td>[0.4606024, -0.552954, 0.07159625, 0.42867935,...</td>\n",
       "      <td>[0.19807585, 0.038253188, -1.0105137, -1.19123...</td>\n",
       "    </tr>\n",
       "    <tr>\n",
       "      <th>1</th>\n",
       "      <td>1akx</td>\n",
       "      <td>ARG</td>\n",
       "      <td>B</td>\n",
       "      <td>A</td>\n",
       "      <td>GGCCAGAUUGAGCCUGGGAGCUCUCUGGCC</td>\n",
       "      <td>[H]N([H])C(N([H])[H])N([H])C([H])([H])C([H])([...</td>\n",
       "      <td>[0.4606024, -0.552954, 0.07159625, 0.42867935,...</td>\n",
       "      <td>[0.19807585, 0.038253188, -1.0105137, -1.19123...</td>\n",
       "    </tr>\n",
       "    <tr>\n",
       "      <th>2</th>\n",
       "      <td>1am0</td>\n",
       "      <td>AMP</td>\n",
       "      <td>B</td>\n",
       "      <td>A</td>\n",
       "      <td>GGGUUGGGAAGAAACUGUGGCACUUCGGUGCCAGCAACCC</td>\n",
       "      <td>[H]O[C@@]1([H])[C@@]([H])(O[H])[C@]([H])(N2C([...</td>\n",
       "      <td>[0.3783685, -0.48514688, 0.08168459, 0.4056929...</td>\n",
       "      <td>[0.2500691, 0.100058, -1.3738682, -1.2410955, ...</td>\n",
       "    </tr>\n",
       "    <tr>\n",
       "      <th>3</th>\n",
       "      <td>1arj</td>\n",
       "      <td>ARG</td>\n",
       "      <td>B</td>\n",
       "      <td>N</td>\n",
       "      <td>GGCAGAUCUGAGCCUGGGAGCUCUCUGCC</td>\n",
       "      <td>[H]N([H])C(N([H])[H])N([H])C([H])([H])C([H])([...</td>\n",
       "      <td>[0.47757724, -0.5242162, 0.095895864, 0.414529...</td>\n",
       "      <td>[0.14929794, 0.073322795, -0.97397256, -1.3375...</td>\n",
       "    </tr>\n",
       "    <tr>\n",
       "      <th>4</th>\n",
       "      <td>1eht</td>\n",
       "      <td>TEP</td>\n",
       "      <td>B</td>\n",
       "      <td>A</td>\n",
       "      <td>GGCGAUACCAGCCGAAAGGCCCUUGGCAGCGUC</td>\n",
       "      <td>[H]C1NC2C(C(O)N(C([H])([H])[H])C(O)N2C([H])([H...</td>\n",
       "      <td>[0.41855708, -0.53773266, 0.03623496, 0.435665...</td>\n",
       "      <td>[0.113713376, 0.1409429, -1.1955042, -1.564314...</td>\n",
       "    </tr>\n",
       "    <tr>\n",
       "      <th>...</th>\n",
       "      <td>...</td>\n",
       "      <td>...</td>\n",
       "      <td>...</td>\n",
       "      <td>...</td>\n",
       "      <td>...</td>\n",
       "      <td>...</td>\n",
       "      <td>...</td>\n",
       "      <td>...</td>\n",
       "    </tr>\n",
       "    <tr>\n",
       "      <th>1385</th>\n",
       "      <td>6yl5</td>\n",
       "      <td>SAH</td>\n",
       "      <td>NA</td>\n",
       "      <td>K</td>\n",
       "      <td>GGUCACAACGGCUUCCUGGCGUGACCAUUGGAGCA</td>\n",
       "      <td>[H]O[C@@]1([H])[C@@]([H])(O[H])[C@]([H])(N2C([...</td>\n",
       "      <td>[0.39510193, -0.4880833, 0.06998497, 0.4085014...</td>\n",
       "      <td>[0.26429752, 0.32983544, -1.1726136, -1.339479...</td>\n",
       "    </tr>\n",
       "    <tr>\n",
       "      <th>1386</th>\n",
       "      <td>6ymi</td>\n",
       "      <td>AMP</td>\n",
       "      <td>Z</td>\n",
       "      <td>O</td>\n",
       "      <td>GGUCACAACGGCUUCCUGGCGUGACC</td>\n",
       "      <td>NC1NCNC2C1NCN2[C@@H]1O[C@H](CO[PH](O)(O)O)[C@@...</td>\n",
       "      <td>[0.3783685, -0.48514688, 0.08168459, 0.4056929...</td>\n",
       "      <td>[0.2047549, 0.40685564, -1.0418745, -1.4673102...</td>\n",
       "    </tr>\n",
       "    <tr>\n",
       "      <th>1387</th>\n",
       "      <td>6ymj</td>\n",
       "      <td>ADN</td>\n",
       "      <td>AA</td>\n",
       "      <td>O</td>\n",
       "      <td>GGUCACAACGGCUUCCUGGCGUGACC</td>\n",
       "      <td>NC1NCNC2C1NCN2[C@@H]1O[C@H](CO)[C@@H](O)[C@H]1O</td>\n",
       "      <td>[0.39568582, -0.5359654, 0.06406295, 0.4215734...</td>\n",
       "      <td>[0.2047549, 0.40685564, -1.0418745, -1.4673102...</td>\n",
       "    </tr>\n",
       "    <tr>\n",
       "      <th>1388</th>\n",
       "      <td>7tql</td>\n",
       "      <td>5GP</td>\n",
       "      <td>NA</td>\n",
       "      <td>3</td>\n",
       "      <td>AGCAGAGUGGCGCAGCGGAAGCGUGCUGGGCCCAUAACCCAGAGGU...</td>\n",
       "      <td>NC1NC(O)C2NCN([C@@H]3O[C@H](COP(O)O)[C@@H](O)[...</td>\n",
       "      <td>[0.38205087, -0.4702403, 0.08228299, 0.4623242...</td>\n",
       "      <td>[0.36936635, 0.4023114, -0.7774876, -1.8904905...</td>\n",
       "    </tr>\n",
       "    <tr>\n",
       "      <th>1389</th>\n",
       "      <td>8ceu</td>\n",
       "      <td>G34</td>\n",
       "      <td>NA</td>\n",
       "      <td>a</td>\n",
       "      <td>GGUUAAGCGACUAAGCGUACACGGUGGAUGCCCUGGCAGUCAGAGG...</td>\n",
       "      <td>CC[C@]1(C)C[C@@H](OC(O)CS[C@H]2C[C@H]3CC[C@@H]...</td>\n",
       "      <td>[0.41233355, -0.46724612, 0.06647156, 0.386407...</td>\n",
       "      <td>[0.7240462, 2.0349267, -0.6537095, 0.529561, -...</td>\n",
       "    </tr>\n",
       "  </tbody>\n",
       "</table>\n",
       "<p>1390 rows × 8 columns</p>\n",
       "</div>"
      ],
      "text/plain": [
       "     pdb_id ligand_id ligand_chain rna_chain  \\\n",
       "0      1aju       ARG            B         A   \n",
       "1      1akx       ARG            B         A   \n",
       "2      1am0       AMP            B         A   \n",
       "3      1arj       ARG            B         N   \n",
       "4      1eht       TEP            B         A   \n",
       "...     ...       ...          ...       ...   \n",
       "1385   6yl5       SAH           NA         K   \n",
       "1386   6ymi       AMP            Z         O   \n",
       "1387   6ymj       ADN           AA         O   \n",
       "1388   7tql       5GP           NA         3   \n",
       "1389   8ceu       G34           NA         a   \n",
       "\n",
       "                                           rna_sequence  \\\n",
       "0                        GGCCAGAUUGAGCCUGGGAGCUCUCUGGCC   \n",
       "1                        GGCCAGAUUGAGCCUGGGAGCUCUCUGGCC   \n",
       "2              GGGUUGGGAAGAAACUGUGGCACUUCGGUGCCAGCAACCC   \n",
       "3                         GGCAGAUCUGAGCCUGGGAGCUCUCUGCC   \n",
       "4                     GGCGAUACCAGCCGAAAGGCCCUUGGCAGCGUC   \n",
       "...                                                 ...   \n",
       "1385                GGUCACAACGGCUUCCUGGCGUGACCAUUGGAGCA   \n",
       "1386                         GGUCACAACGGCUUCCUGGCGUGACC   \n",
       "1387                         GGUCACAACGGCUUCCUGGCGUGACC   \n",
       "1388  AGCAGAGUGGCGCAGCGGAAGCGUGCUGGGCCCAUAACCCAGAGGU...   \n",
       "1389  GGUUAAGCGACUAAGCGUACACGGUGGAUGCCCUGGCAGUCAGAGG...   \n",
       "\n",
       "                                          ligand_smiles  \\\n",
       "0     [H]N([H])C(N([H])[H])N([H])C([H])([H])C([H])([...   \n",
       "1     [H]N([H])C(N([H])[H])N([H])C([H])([H])C([H])([...   \n",
       "2     [H]O[C@@]1([H])[C@@]([H])(O[H])[C@]([H])(N2C([...   \n",
       "3     [H]N([H])C(N([H])[H])N([H])C([H])([H])C([H])([...   \n",
       "4     [H]C1NC2C(C(O)N(C([H])([H])[H])C(O)N2C([H])([H...   \n",
       "...                                                 ...   \n",
       "1385  [H]O[C@@]1([H])[C@@]([H])(O[H])[C@]([H])(N2C([...   \n",
       "1386  NC1NCNC2C1NCN2[C@@H]1O[C@H](CO[PH](O)(O)O)[C@@...   \n",
       "1387    NC1NCNC2C1NCN2[C@@H]1O[C@H](CO)[C@@H](O)[C@H]1O   \n",
       "1388  NC1NC(O)C2NCN([C@@H]3O[C@H](COP(O)O)[C@@H](O)[...   \n",
       "1389  CC[C@]1(C)C[C@@H](OC(O)CS[C@H]2C[C@H]3CC[C@@H]...   \n",
       "\n",
       "                                       smiles_embedding  \\\n",
       "0     [0.4606024, -0.552954, 0.07159625, 0.42867935,...   \n",
       "1     [0.4606024, -0.552954, 0.07159625, 0.42867935,...   \n",
       "2     [0.3783685, -0.48514688, 0.08168459, 0.4056929...   \n",
       "3     [0.47757724, -0.5242162, 0.095895864, 0.414529...   \n",
       "4     [0.41855708, -0.53773266, 0.03623496, 0.435665...   \n",
       "...                                                 ...   \n",
       "1385  [0.39510193, -0.4880833, 0.06998497, 0.4085014...   \n",
       "1386  [0.3783685, -0.48514688, 0.08168459, 0.4056929...   \n",
       "1387  [0.39568582, -0.5359654, 0.06406295, 0.4215734...   \n",
       "1388  [0.38205087, -0.4702403, 0.08228299, 0.4623242...   \n",
       "1389  [0.41233355, -0.46724612, 0.06647156, 0.386407...   \n",
       "\n",
       "                                          rna_embedding  \n",
       "0     [0.19807585, 0.038253188, -1.0105137, -1.19123...  \n",
       "1     [0.19807585, 0.038253188, -1.0105137, -1.19123...  \n",
       "2     [0.2500691, 0.100058, -1.3738682, -1.2410955, ...  \n",
       "3     [0.14929794, 0.073322795, -0.97397256, -1.3375...  \n",
       "4     [0.113713376, 0.1409429, -1.1955042, -1.564314...  \n",
       "...                                                 ...  \n",
       "1385  [0.26429752, 0.32983544, -1.1726136, -1.339479...  \n",
       "1386  [0.2047549, 0.40685564, -1.0418745, -1.4673102...  \n",
       "1387  [0.2047549, 0.40685564, -1.0418745, -1.4673102...  \n",
       "1388  [0.36936635, 0.4023114, -0.7774876, -1.8904905...  \n",
       "1389  [0.7240462, 2.0349267, -0.6537095, 0.529561, -...  \n",
       "\n",
       "[1390 rows x 8 columns]"
      ]
     },
     "execution_count": 138,
     "metadata": {},
     "output_type": "execute_result"
    }
   ],
   "source": [
    "general_df"
   ]
  },
  {
   "cell_type": "code",
   "execution_count": 159,
   "metadata": {
    "tags": []
   },
   "outputs": [],
   "source": [
    "encoded_data_path = 'general_dataset/general_processed_index_encoded.csv'\n",
    "general_df.to_csv(encoded_data_path, index=False)"
   ]
  },
  {
   "cell_type": "markdown",
   "metadata": {},
   "source": [
    "# Pdbbind dataset"
   ]
  },
  {
   "cell_type": "code",
   "execution_count": 129,
   "metadata": {
    "tags": []
   },
   "outputs": [],
   "source": [
    "pdbbind_df = pd.read_csv('pdbbind_dataset_rna/pdbbind_rna_processed_index.csv', keep_default_na=False)"
   ]
  },
  {
   "cell_type": "code",
   "execution_count": 161,
   "metadata": {
    "tags": []
   },
   "outputs": [
    {
     "name": "stderr",
     "output_type": "stream",
     "text": [
      "/blue/yanjun.li/tzutang.lin/CoPRA/CoRSA/./materials/models/smi_ted/smi_ted_light/load.py:415: FutureWarning: You are using `torch.load` with `weights_only=False` (the current default value), which uses the default pickle module implicitly. It is possible to construct malicious pickle data which will execute arbitrary code during unpickling (See https://github.com/pytorch/pytorch/blob/main/SECURITY.md#untrusted-models for more details). In a future release, the default value for `weights_only` will be flipped to `True`. This limits the functions that could be executed during unpickling. Arbitrary objects will no longer be allowed to be loaded via this mode unless they are explicitly allowlisted by the user via `torch.serialization.add_safe_globals`. We recommend you start setting `weights_only=True` for any use case where you don't have full control of the loaded file. Please open an issue on GitHub for any issues related to this experimental feature.\n",
      "  checkpoint = torch.load(ckpt_path, map_location=torch.device('cpu'))\n"
     ]
    },
    {
     "name": "stdout",
     "output_type": "stream",
     "text": [
      "Random Seed: 12345\n",
      "Using Rotation Embedding\n",
      "Using Rotation Embedding\n",
      "Using Rotation Embedding\n",
      "Using Rotation Embedding\n",
      "Using Rotation Embedding\n",
      "Using Rotation Embedding\n",
      "Using Rotation Embedding\n",
      "Using Rotation Embedding\n",
      "Using Rotation Embedding\n",
      "Using Rotation Embedding\n",
      "Using Rotation Embedding\n",
      "Using Rotation Embedding\n",
      "Vocab size: 2393\n",
      "[INFERENCE MODE - smi-ted-Light]\n"
     ]
    },
    {
     "name": "stderr",
     "output_type": "stream",
     "text": [
      "/blue/yanjun.li/tzutang.lin/.conda/envs/copra/lib/python3.10/site-packages/numpy/core/fromnumeric.py:57: FutureWarning: 'Series.swapaxes' is deprecated and will be removed in a future version. Please use 'Series.transpose' instead.\n",
      "  return bound(*args, **kwds)\n",
      "100%|██████████| 1/1 [00:04<00:00,  4.39s/it]\n"
     ]
    }
   ],
   "source": [
    "smiles_embeddings = encode_smiles(pdbbind_df['ligand_smiles'], model_type='SMI-TED')\n",
    "pdbbind_df['smiles_embedding'] = [list(embedding.numpy()) for embedding in smiles_embeddings]"
   ]
  },
  {
   "cell_type": "code",
   "execution_count": 162,
   "metadata": {
    "tags": []
   },
   "outputs": [
    {
     "name": "stderr",
     "output_type": "stream",
     "text": [
      "Some weights of RiNALMoModel were not initialized from the model checkpoint at multimolecule/rinalmo and are newly initialized: ['rinalmo.pooler.dense.bias', 'rinalmo.pooler.dense.weight']\n",
      "You should probably TRAIN this model on a down-stream task to be able to use it for predictions and inference.\n"
     ]
    },
    {
     "name": "stdout",
     "output_type": "stream",
     "text": [
      "Processing batch 1/2\n",
      "Processing batch 2/2\n"
     ]
    }
   ],
   "source": [
    "rna_embeddings = encode_rna_sequences(pdbbind_df['rna_sequence'])\n",
    "pdbbind_df['rna_embedding'] = [list(embedding.numpy()) for embedding in rna_embeddings]"
   ]
  },
  {
   "cell_type": "code",
   "execution_count": 163,
   "metadata": {
    "tags": []
   },
   "outputs": [],
   "source": [
    "encoded_data_path = 'pdbbind_dataset_rna/pdbbind_rna_processed_index_encoded.csv'\n",
    "pdbbind_df.to_csv(encoded_data_path, index=False)"
   ]
  },
  {
   "cell_type": "code",
   "execution_count": 168,
   "metadata": {
    "tags": []
   },
   "outputs": [
    {
     "data": {
      "text/plain": [
       "0      valid\n",
       "1      train\n",
       "2       test\n",
       "3      train\n",
       "4      valid\n",
       "       ...  \n",
       "113    train\n",
       "114    train\n",
       "115     test\n",
       "116    train\n",
       "117     test\n",
       "Name: set, Length: 118, dtype: object"
      ]
     },
     "execution_count": 168,
     "metadata": {},
     "output_type": "execute_result"
    }
   ],
   "source": [
    "pdbbind_df['set']"
   ]
  },
  {
   "cell_type": "code",
   "execution_count": null,
   "metadata": {},
   "outputs": [],
   "source": []
  }
 ],
 "metadata": {
  "kernelspec": {
   "display_name": "copra",
   "language": "python",
   "name": "copra"
  },
  "language_info": {
   "codemirror_mode": {
    "name": "ipython",
    "version": 3
   },
   "file_extension": ".py",
   "mimetype": "text/x-python",
   "name": "python",
   "nbconvert_exporter": "python",
   "pygments_lexer": "ipython3",
   "version": "3.10.14"
  }
 },
 "nbformat": 4,
 "nbformat_minor": 4
}
