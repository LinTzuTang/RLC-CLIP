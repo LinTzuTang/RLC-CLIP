{
 "cells": [
  {
   "cell_type": "code",
   "execution_count": 2,
   "metadata": {},
   "outputs": [],
   "source": [
    "import numpy as np\n",
    "import torch\n",
    "from scipy.spatial import distance_matrix"
   ]
  },
  {
   "cell_type": "code",
   "execution_count": 2,
   "metadata": {},
   "outputs": [],
   "source": [
    "from Bio.PDB import PDBParser, MMCIFParser\n",
    "def load_structure(filepath):\n",
    "    \"\"\"\n",
    "    Loads atomic coordinates from a PDB or CIF file.\n",
    "\n",
    "    Args:\n",
    "        filepath (str): Path to the PDB or CIF file.\n",
    "\n",
    "    Returns:\n",
    "        list: A list of atomic coordinates as numpy arrays.\n",
    "    \"\"\"\n",
    "    if filepath.endswith('.cif'):\n",
    "        parser = MMCIFParser(QUIET=True)\n",
    "    else:\n",
    "        parser = PDBParser(QUIET=True)\n",
    "    \n",
    "    structure = parser.get_structure('structure', filepath)\n",
    "    coordinates = []\n",
    "    for model in structure:\n",
    "        for chain in model:\n",
    "            for residue in chain:\n",
    "                for atom in residue:\n",
    "                    coordinates.append(atom.coord)\n",
    "    return np.array(coordinates, dtype=np.float32).reshape(-1, 3)"
   ]
  },
  {
   "cell_type": "code",
   "execution_count": 3,
   "metadata": {},
   "outputs": [],
   "source": [
    "ligand_structure = load_structure('/home/tzutang.lin/blue_ufhpc/CoPRA/CoRSA/general_dataset/parsed_ligands_pdb/1aju_B_ARG.pdb')\n",
    "pocket_structure = load_structure('/home/tzutang.lin/blue_ufhpc/CoPRA/CoRSA/general_dataset/pockets_6A/1aju_B_ARG_pocket.cif')"
   ]
  },
  {
   "cell_type": "code",
   "execution_count": 4,
   "metadata": {},
   "outputs": [],
   "source": [
    "import numpy as np\n",
    "from scipy.spatial import distance_matrix\n",
    "import torch\n",
    "\n",
    "def get_combined_distance_matrix(mol_pos, pocket_pos):\n",
    "    \"\"\"\n",
    "    Combines distance matrices from pocket and molecule positions into a single matrix.\n",
    "    Args:\n",
    "        mol_pos (torch.Tensor or np.ndarray): Coordinates of the molecule (shape: [num_mol_atoms, 3]).\n",
    "        pocket_pos (torch.Tensor or np.ndarray): Coordinates of the pocket (shape: [num_pocket_atoms, 3]).\n",
    "    Returns:\n",
    "        torch.Tensor: Combined distance matrix of shape [(num_mol_atoms + num_pocket_atoms), (num_mol_atoms + num_pocket_atoms)].\n",
    "    \"\"\"\n",
    "\n",
    "    # Convert to numpy arrays if they are PyTorch tensors\n",
    "    if isinstance(mol_pos, torch.Tensor):\n",
    "        mol_pos = mol_pos.numpy()\n",
    "    if isinstance(pocket_pos, torch.Tensor):\n",
    "        pocket_pos = pocket_pos.numpy()\n",
    "\n",
    "    # Calculate distance matrices for each part\n",
    "    pocket_pocket_dist = distance_matrix(pocket_pos, pocket_pos).astype(np.float32)  # Top-left\n",
    "    mol_mol_dist = distance_matrix(mol_pos, mol_pos).astype(np.float32)              # Bottom-right\n",
    "    mol_pocket_dist = distance_matrix(mol_pos, pocket_pos).astype(np.float32)        # Cross-distance\n",
    "\n",
    "    # Get the dimensions of the distance matrices\n",
    "    num_pocket_atoms = pocket_pos.shape[0]\n",
    "    num_mol_atoms = mol_pos.shape[0]\n",
    "\n",
    "    # Create the final combined distance matrix with padding\n",
    "    combined_size = num_pocket_atoms + num_mol_atoms\n",
    "    combined_matrix = np.zeros((combined_size, combined_size), dtype=np.float32)\n",
    "\n",
    "    # Fill in the top-left (pocket-pocket distances)\n",
    "    combined_matrix[:num_pocket_atoms, :num_pocket_atoms] = pocket_pocket_dist\n",
    "\n",
    "    # Fill in the bottom-right (mol-mol distances)\n",
    "    combined_matrix[num_pocket_atoms:, num_pocket_atoms:] = mol_mol_dist\n",
    "\n",
    "    # Fill in the top-right and bottom-left (mol-pocket distances)\n",
    "    combined_matrix[:num_pocket_atoms, num_pocket_atoms:] = mol_pocket_dist.T\n",
    "    combined_matrix[num_pocket_atoms:, :num_pocket_atoms] = mol_pocket_dist\n",
    "\n",
    "    # Convert to torch tensor and return\n",
    "    return torch.from_numpy(combined_matrix)\n",
    "\n",
    "\n"
   ]
  },
  {
   "cell_type": "code",
   "execution_count": 5,
   "metadata": {},
   "outputs": [],
   "source": [
    "# Example usage\n",
    "ligand_structure = load_structure('/home/tzutang.lin/blue_ufhpc/CoPRA/CoRSA/general_dataset/parsed_ligands_pdb/1aju_B_ARG.pdb')\n",
    "pocket_structure = load_structure('/home/tzutang.lin/blue_ufhpc/CoPRA/CoRSA/general_dataset/pockets_6A/1aju_B_ARG_pocket.cif')\n",
    "\n",
    "mol_pos = ligand_structure.reshape(-1, 3)\n",
    "pocket_pos = pocket_structure.reshape(-1, 3)\n",
    "\n",
    "# Get the combined distance matrix\n",
    "combined_dist_matrix = get_combined_distance_matrix(mol_pos, pocket_pos)"
   ]
  },
  {
   "cell_type": "code",
   "execution_count": 7,
   "metadata": {},
   "outputs": [
    {
     "data": {
      "text/plain": [
       "(26, 3)"
      ]
     },
     "execution_count": 7,
     "metadata": {},
     "output_type": "execute_result"
    }
   ],
   "source": [
    "mol_pos.shape"
   ]
  },
  {
   "cell_type": "code",
   "execution_count": 8,
   "metadata": {},
   "outputs": [
    {
     "data": {
      "text/plain": [
       "(381, 3)"
      ]
     },
     "execution_count": 8,
     "metadata": {},
     "output_type": "execute_result"
    }
   ],
   "source": [
    "pocket_pos.shape"
   ]
  },
  {
   "cell_type": "code",
   "execution_count": null,
   "metadata": {},
   "outputs": [],
   "source": []
  }
 ],
 "metadata": {
  "kernelspec": {
   "display_name": "Python 3",
   "language": "python",
   "name": "python3"
  },
  "language_info": {
   "codemirror_mode": {
    "name": "ipython",
    "version": 3
   },
   "file_extension": ".py",
   "mimetype": "text/x-python",
   "name": "python",
   "nbconvert_exporter": "python",
   "pygments_lexer": "ipython3",
   "version": "3.10.14"
  },
  "orig_nbformat": 4
 },
 "nbformat": 4,
 "nbformat_minor": 2
}
